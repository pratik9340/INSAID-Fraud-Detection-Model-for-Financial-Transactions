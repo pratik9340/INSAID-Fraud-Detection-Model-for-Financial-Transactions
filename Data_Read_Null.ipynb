{
 "cells": [
  {
   "cell_type": "code",
   "execution_count": 13,
   "id": "13436d75-3f2a-4abd-bfe0-548c7369e04f",
   "metadata": {},
   "outputs": [
    {
     "name": "stdout",
     "output_type": "stream",
     "text": [
      "File Exists\n",
      "Reading file into dataframe.\n",
      "   step      type    amount     nameOrig  oldbalanceOrg  newbalanceOrig  \\\n",
      "0     1   PAYMENT   9839.64  C1231006815       170136.0       160296.36   \n",
      "1     1   PAYMENT   1864.28  C1666544295        21249.0        19384.72   \n",
      "2     1  TRANSFER    181.00  C1305486145          181.0            0.00   \n",
      "3     1  CASH_OUT    181.00   C840083671          181.0            0.00   \n",
      "4     1   PAYMENT  11668.14  C2048537720        41554.0        29885.86   \n",
      "\n",
      "      nameDest  oldbalanceDest  newbalanceDest  isFraud  isFlaggedFraud  \n",
      "0  M1979787155             0.0             0.0        0               0  \n",
      "1  M2044282225             0.0             0.0        0               0  \n",
      "2   C553264065             0.0             0.0        1               0  \n",
      "3    C38997010         21182.0             0.0        1               0  \n",
      "4  M1230701703             0.0             0.0        0               0  \n"
     ]
    }
   ],
   "source": [
    "import pandas as pd\n",
    "import numpy as np\n",
    "import os\n",
    "\n",
    "# Define the folder path and file name\n",
    "Folder_path = r\"C:\\Users\\Lenovo\\INSAID-Fraud-Detection-Model-for-Financial-Transactions\"\n",
    "file_name = \"Fraud.csv\"\n",
    "\n",
    "# Combine the folder path and file name into a full file path\n",
    "full_path = os.path.join(Folder_path, file_name)\n",
    "\n",
    "# Check if the file exists\n",
    "if os.path.exists(full_path):\n",
    "    print(\"File Exists\")  \n",
    "    print(\"Reading file into dataframe.\")    \n",
    "    # Read the file into a DataFrame\n",
    "    df = pd.read_csv(full_path)    \n",
    "    # Display the first few rows of the DataFrame\n",
    "    print(df.head())\n",
    "else:\n",
    "    print('File doesn\\'t exist')"
   ]
  },
  {
   "cell_type": "raw",
   "id": "3d0743db-553b-4874-b215-d4a80b2055fe",
   "metadata": {},
   "source": [
    "Check the numerical and categorical features and find the missing values in DataFrame."
   ]
  },
  {
   "cell_type": "code",
   "execution_count": 14,
   "id": "3d2b4168-1b8f-416f-ba43-5817ee4fc55b",
   "metadata": {},
   "outputs": [
    {
     "name": "stdout",
     "output_type": "stream",
     "text": [
      "Column Name in the fraud.csv file, Total Column :  11\n",
      "Index(['step', 'type', 'amount', 'nameOrig', 'oldbalanceOrg', 'newbalanceOrig',\n",
      "       'nameDest', 'oldbalanceDest', 'newbalanceDest', 'isFraud',\n",
      "       'isFlaggedFraud'],\n",
      "      dtype='object')\n",
      "Number of numerical features: 8\n",
      "Number of categorical features: 3\n",
      "step              0\n",
      "type              0\n",
      "amount            0\n",
      "nameOrig          0\n",
      "oldbalanceOrg     0\n",
      "newbalanceOrig    0\n",
      "nameDest          0\n",
      "oldbalanceDest    0\n",
      "newbalanceDest    0\n",
      "isFraud           0\n",
      "isFlaggedFraud    0\n",
      "dtype: int64\n"
     ]
    }
   ],
   "source": [
    "Column_Name =df.columns\n",
    "print(\"Column Name in the fraud.csv file, Total Column : \",len(Column_Name))\n",
    "print(Column_Name)\n",
    "# Identify numerical features\n",
    "numerical_features = df.select_dtypes(include=['int', 'float']).columns\n",
    "num_numerical_features = len(numerical_features)\n",
    "# Identify categorical features\n",
    "categorical_features = df.select_dtypes(include=['object']).columns\n",
    "num_categorical_features = len(categorical_features)\n",
    "print(\"Number of numerical features:\", num_numerical_features)\n",
    "print(\"Number of categorical features:\", num_categorical_features)\n",
    "#Find the number of missing values in Pandas\n",
    "#NaN (Not a Number) and None are treated as missing values in Pandas.\n",
    "print(df.isna().sum())"
   ]
  },
  {
   "cell_type": "code",
   "execution_count": null,
   "id": "c0081688-bef6-448a-b594-b5019d2c60bc",
   "metadata": {},
   "outputs": [],
   "source": []
  }
 ],
 "metadata": {
  "kernelspec": {
   "display_name": "Python 3 (ipykernel)",
   "language": "python",
   "name": "python3"
  },
  "language_info": {
   "codemirror_mode": {
    "name": "ipython",
    "version": 3
   },
   "file_extension": ".py",
   "mimetype": "text/x-python",
   "name": "python",
   "nbconvert_exporter": "python",
   "pygments_lexer": "ipython3",
   "version": "3.12.4"
  }
 },
 "nbformat": 4,
 "nbformat_minor": 5
}
